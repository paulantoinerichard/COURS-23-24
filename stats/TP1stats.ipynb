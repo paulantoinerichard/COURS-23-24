{
 "cells": [
  {
   "cell_type": "markdown",
   "id": "09252d88",
   "metadata": {},
   "source": [
    "Ecrire une fonction pour générer un échantillon Dn de taille n"
   ]
  },
  {
   "cell_type": "code",
   "execution_count": null,
   "id": "cea85802",
   "metadata": {},
   "outputs": [],
   "source": [
    "import numpy as np\n",
    "\n",
    "def Dn(n, alpha, beta):\n",
    "    \n",
    "    X = np.random.rand(n, 2)\n",
    "    Y = np.zeros(n, dtype=int)\n",
    "\n",
    "    for i in range(n):\n",
    "        x1, x2 = X[i]\n",
    "        if abs(x1 + 2 * x2) <= 1:\n",
    "            Y[i] = 1 if np.random.rand() < alpha else 0\n",
    "        else:\n",
    "            Y[i] = 1 if np.random.rand() < beta else 0\n",
    "\n",
    "    return X, Y\n",
    "\n",
    "X, Y = Dn(n, alpha, beta)"
   ]
  },
  {
   "cell_type": "code",
   "execution_count": null,
   "id": "560fec17",
   "metadata": {},
   "outputs": [],
   "source": []
  },
  {
   "cell_type": "code",
   "execution_count": null,
   "id": "4f1905fd",
   "metadata": {},
   "outputs": [],
   "source": []
  },
  {
   "cell_type": "code",
   "execution_count": null,
   "id": "b0ad587e",
   "metadata": {},
   "outputs": [],
   "source": []
  },
  {
   "cell_type": "code",
   "execution_count": null,
   "id": "f038f528",
   "metadata": {},
   "outputs": [],
   "source": []
  },
  {
   "cell_type": "code",
   "execution_count": null,
   "id": "1da656a1",
   "metadata": {},
   "outputs": [],
   "source": []
  },
  {
   "cell_type": "code",
   "execution_count": null,
   "id": "2bac11a5",
   "metadata": {},
   "outputs": [],
   "source": []
  },
  {
   "cell_type": "code",
   "execution_count": null,
   "id": "0cdee268",
   "metadata": {},
   "outputs": [],
   "source": []
  },
  {
   "cell_type": "code",
   "execution_count": null,
   "id": "898ab0ce",
   "metadata": {},
   "outputs": [],
   "source": []
  }
 ],
 "metadata": {
  "kernelspec": {
   "display_name": "Python 3 (ipykernel)",
   "language": "python",
   "name": "python3"
  },
  "language_info": {
   "codemirror_mode": {
    "name": "ipython",
    "version": 3
   },
   "file_extension": ".py",
   "mimetype": "text/x-python",
   "name": "python",
   "nbconvert_exporter": "python",
   "pygments_lexer": "ipython3",
   "version": "3.11.4"
  }
 },
 "nbformat": 4,
 "nbformat_minor": 5
}
